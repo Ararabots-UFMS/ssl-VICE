{
 "cells": [
  {
   "cell_type": "code",
   "execution_count": 1,
   "metadata": {},
   "outputs": [],
   "source": [
    "import threading\n",
    "\n",
    "def thread_function():\n",
    "    while True:\n",
    "        pass\n",
    "\n",
    "threads = []\n",
    "try:\n",
    "    while True:\n",
    "        thread = threading.Thread(target=thread_function)\n",
    "        thread.start()\n",
    "        threads.append(thread)\n",
    "        print(f\"Thread {len(threads)} started\")\n",
    "except Exception as e:\n",
    "    print(f\"Error: {e}\")"
   ]
  },
  {
   "cell_type": "code",
   "execution_count": 2,
   "metadata": {},
   "outputs": [],
   "source": [
    "import rclpy\n",
    "\n",
    "rclpy.init()\n",
    "vision = VisionSubscriber()"
   ]
  },
  {
   "cell_type": "code",
   "execution_count": 11,
   "metadata": {},
   "outputs": [
    {
     "data": {
      "text/plain": [
       "system_interfaces.msg.ObjectID(id=0, is_ball=False, is_blue=False)"
      ]
     },
     "execution_count": 11,
     "metadata": {},
     "output_type": "execute_result"
    }
   ],
   "source": [
    "rclpy.spin_once(vision)\n",
    "message = vision.get_message()\n",
    "message.yellow_robots[0].id.id"
   ]
  }
 ],
 "metadata": {
  "kernelspec": {
   "display_name": "Python 3",
   "language": "python",
   "name": "python3"
  },
  "language_info": {
   "codemirror_mode": {
    "name": "ipython",
    "version": 3
   },
   "file_extension": ".py",
   "mimetype": "text/x-python",
   "name": "python",
   "nbconvert_exporter": "python",
   "pygments_lexer": "ipython3",
   "version": "3.10.12"
  }
 },
 "nbformat": 4,
 "nbformat_minor": 2
}
